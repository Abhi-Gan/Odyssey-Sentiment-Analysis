{
  "nbformat": 4,
  "nbformat_minor": 0,
  "metadata": {
    "colab": {
      "provenance": [],
      "toc_visible": true,
      "authorship_tag": "ABX9TyOWT3Ohq8+WNOQn0+XDlOZv",
      "include_colab_link": true
    },
    "kernelspec": {
      "name": "python3",
      "display_name": "Python 3"
    },
    "language_info": {
      "name": "python"
    }
  },
  "cells": [
    {
      "cell_type": "markdown",
      "metadata": {
        "id": "view-in-github",
        "colab_type": "text"
      },
      "source": [
        "<a href=\"https://colab.research.google.com/github/Abhi-Gan/Odyssey-Sentiment-Analysis/blob/main/Mythology_Final_Final_Project.ipynb\" target=\"_parent\"><img src=\"https://colab.research.google.com/assets/colab-badge.svg\" alt=\"Open In Colab\"/></a>"
      ]
    },
    {
      "cell_type": "markdown",
      "source": [
        "The Goal of this code is to produce a DataFrame that can easily be used to perform visual and statistical analysis to answer the following questions:\n",
        "\n",
        "*   “to what extent does the manner in which a character is framed relate to their demographic background (gender, economic status, creature type) in the Odyssey?”\n",
        "*   “to what extent does the translator of a work of literature affect the manner in which these characters are framed?”"
      ],
      "metadata": {
        "id": "LiwKjGGpxKIl"
      }
    },
    {
      "cell_type": "markdown",
      "source": [
        "# Data Preprocessing Functions"
      ],
      "metadata": {
        "id": "oN7uOtWRxG2u"
      }
    },
    {
      "cell_type": "code",
      "execution_count": 1,
      "metadata": {
        "id": "PWC5jDC_w-PS"
      },
      "outputs": [],
      "source": [
        "# used to directly read txt files from url's\n",
        "import urllib"
      ]
    },
    {
      "cell_type": "code",
      "source": [
        "import string\n",
        "import re"
      ],
      "metadata": {
        "id": "vRsF0onC58Gn"
      },
      "execution_count": 2,
      "outputs": []
    },
    {
      "cell_type": "code",
      "source": [
        "# param txt_url is the url of the text file\n",
        "# returns string version of text file at that url\n",
        "def get_str(txt_url):\n",
        "  with urllib.request.urlopen(txt_url) as url:\n",
        "    return str(url.read())"
      ],
      "metadata": {
        "id": "lhDudhlNyAOq"
      },
      "execution_count": 3,
      "outputs": []
    },
    {
      "cell_type": "code",
      "source": [
        "# function that performs cleaning as desired\n",
        "# does not split into sentences\n",
        "def clean_text_no_split(raw_txt):\n",
        "  # weird chars are preceded w \\\\\n",
        "  # can be \\\\0x-- or \\\\escape char\n",
        "  # replace these chars w space\n",
        "  clean_txt = re.sub(\"\\\\\\\\x[a-f0-9][a-f0-9]|\\\\\\\\.\",' ', raw_txt)\n",
        "  # also replace numbers bc there seem to be numbers that show up later\n",
        "  clean_txt = re.sub(\"\\\\d+\",' ', clean_txt)\n",
        "  # replace long spaces w only 1\n",
        "  clean_txt = re.sub(\" +\",' ', clean_txt)\n",
        "\n",
        "  # lowercase just in case\n",
        "  clean_txt = clean_txt.lower()\n",
        "  # we might have s or t that appear on their own cuz contractions/ownership\n",
        "  clean_txt = re.sub(\" s | t \",' ', clean_txt)\n",
        "\n",
        "  # no need to get rid of punctuation since using TextBlob\n",
        "\n",
        "  return clean_txt"
      ],
      "metadata": {
        "id": "iPIOqRFGyHay"
      },
      "execution_count": 4,
      "outputs": []
    },
    {
      "cell_type": "markdown",
      "source": [
        "# Sentence Dataframe Creation Function"
      ],
      "metadata": {
        "id": "HD7kzJYJ2RzR"
      }
    },
    {
      "cell_type": "code",
      "source": [
        "from textblob import TextBlob"
      ],
      "metadata": {
        "id": "Z4wmgGPR6s98"
      },
      "execution_count": 5,
      "outputs": []
    },
    {
      "cell_type": "code",
      "source": [
        "import nltk"
      ],
      "metadata": {
        "id": "v_nZfYjv79oI"
      },
      "execution_count": 6,
      "outputs": []
    },
    {
      "cell_type": "code",
      "source": [
        "# download necessary packages for TextBlob\n",
        "#nltk.download('wordnet')\n",
        "nltk.download('punkt')\n",
        "#nltk.download('stopwords')\n",
        "#nltk.download('omw-1.4')"
      ],
      "metadata": {
        "colab": {
          "base_uri": "https://localhost:8080/"
        },
        "id": "A83l8Qh972Lm",
        "outputId": "daa87363-c655-4dfa-96cd-4f2c8424d52e"
      },
      "execution_count": 7,
      "outputs": [
        {
          "output_type": "stream",
          "name": "stderr",
          "text": [
            "[nltk_data] Downloading package punkt to /root/nltk_data...\n",
            "[nltk_data]   Unzipping tokenizers/punkt.zip.\n"
          ]
        },
        {
          "output_type": "execute_result",
          "data": {
            "text/plain": [
              "True"
            ]
          },
          "metadata": {},
          "execution_count": 7
        }
      ]
    },
    {
      "cell_type": "code",
      "source": [
        "import pandas as pd"
      ],
      "metadata": {
        "id": "IQhDmy_g-uPz"
      },
      "execution_count": 8,
      "outputs": []
    },
    {
      "cell_type": "code",
      "source": [
        "# words_of_interest is a list of lists to acommodate for chars w different versions of same name\n",
        "def get_sent_df(text_blob, words_of_interest):\n",
        "  data = []\n",
        "\n",
        "  for sentence in text_blob.sentences:\n",
        "    row_dict = {}\n",
        "    row_dict[\"sentence\"] = str(sentence)\n",
        "    # find sentiment of num_sentences\n",
        "    row_dict[\"polarity\"] = sentence.sentiment.polarity\n",
        "    row_dict[\"subjectivity\"] = sentence.sentiment.subjectivity\n",
        "    # find if there is a character in this sentence\n",
        "    num_matches = 0\n",
        "    for word_list in words_of_interest:\n",
        "      main_version = word_list[0]\n",
        "      # go through each version of the word until you find one of them in the sentence\n",
        "      i = 0\n",
        "      word_found = False\n",
        "      while(i < len(word_list) and not word_found):\n",
        "        word = word_list[i]\n",
        "        word_found = word in sentence\n",
        "        row_dict[main_version] = word_found\n",
        "        # iterate i\n",
        "        i += 1\n",
        "      # increment count of number of words in the list included in this sentence\n",
        "      num_matches += word_found\n",
        "    # just for quick accessibility later\n",
        "    row_dict[\"num_matches\"] = num_matches\n",
        "    # add this sentence to dataframe\n",
        "    data.append(row_dict)\n",
        "\n",
        "  return pd.DataFrame(data)"
      ],
      "metadata": {
        "id": "xUDVR5EQ2ckl"
      },
      "execution_count": 9,
      "outputs": []
    },
    {
      "cell_type": "code",
      "source": [
        "# performs preprocessing and turning into TextBlob\n",
        "# also goes from Textblob to sent_df\n",
        "def get_df_from_rel_str(relevant_str, words_of_interest):\n",
        "  clean_full = clean_text_no_split(relevant_str)\n",
        "  return get_sent_df(TextBlob(clean_full), words_of_interest)"
      ],
      "metadata": {
        "id": "XupkzlTH6JMW"
      },
      "execution_count": 10,
      "outputs": []
    },
    {
      "cell_type": "markdown",
      "source": [
        "# Running on different translations of Odyssey"
      ],
      "metadata": {
        "id": "yAkeC9rL4IYH"
      }
    },
    {
      "cell_type": "code",
      "source": [
        "# first let's create the list of characters of interest \n",
        "# will be the same for all translations of Odyssey\n",
        "chars_of_interest = [[\"odysseus\", \"ulysses\"], [\"telemachus\"], [\"penelope\"], \n",
        "                     [\"athena\",\"minerva\",\"athene\"], [\"calypso\"], [\"circe\"], \n",
        "                     [\"polyphemus\", \"polypheme\"], [\"scylla\"], [\"antinous\", \"antino\"], \n",
        "                     [\"eumaeus\", \"eum\"], [\"euryclea\", 'eurycleia'], [\"zeus\", \"jove\"], \n",
        "                     [\"poseidon\", \"neptune\"]]"
      ],
      "metadata": {
        "id": "_yYDvOmy60Hu"
      },
      "execution_count": 11,
      "outputs": []
    },
    {
      "cell_type": "code",
      "source": [
        "plain_char_list = [word_list[0] for word_list in chars_of_interest]"
      ],
      "metadata": {
        "id": "2MzF5Ehd_zyC"
      },
      "execution_count": 12,
      "outputs": []
    },
    {
      "cell_type": "markdown",
      "source": [
        "## Butler"
      ],
      "metadata": {
        "id": "56XljecS4S39"
      }
    },
    {
      "cell_type": "code",
      "source": [
        "# https://www.gutenberg.org/ebooks/1727\n",
        "butl_str = get_str(\"https://www.gutenberg.org/cache/epub/1727/pg1727.txt\")"
      ],
      "metadata": {
        "id": "ftboe7If44Kc"
      },
      "execution_count": 13,
      "outputs": []
    },
    {
      "cell_type": "code",
      "source": [
        "# preview string - need to find beginning and ending of Odyssey\n",
        "butl_str[0:500]"
      ],
      "metadata": {
        "colab": {
          "base_uri": "https://localhost:8080/",
          "height": 107
        },
        "id": "moMDlRiY5Cln",
        "outputId": "8ffc4aa5-31f2-4ef8-8228-66eec7eeacb5"
      },
      "execution_count": 14,
      "outputs": [
        {
          "output_type": "execute_result",
          "data": {
            "text/plain": [
              "\"b'\\\\xef\\\\xbb\\\\xbfThe Project Gutenberg eBook of The Odyssey, by Homer\\\\r\\\\n\\\\r\\\\nThis eBook is for the use of anyone anywhere in the United States and\\\\r\\\\nmost other parts of the world at no cost and with almost no restrictions\\\\r\\\\nwhatsoever. You may copy it, give it away or re-use it under the terms\\\\r\\\\nof the Project Gutenberg License included with this eBook or online at\\\\r\\\\nwww.gutenberg.org. If you are not located in the United States, you\\\\r\\\\nwill have to check the laws of the country where you are l\""
            ],
            "application/vnd.google.colaboratory.intrinsic+json": {
              "type": "string"
            }
          },
          "metadata": {},
          "execution_count": 14
        }
      ]
    },
    {
      "cell_type": "code",
      "source": [
        "# get rid of everything before \"THE beginning of\" and after \"FOOTNOTES\"\n",
        "start_idx = butl_str.find(\"THE GODS IN COUNCIL\")\n",
        "end_idx = butl_str.find(\"FOOTNOTES\", start_idx)"
      ],
      "metadata": {
        "id": "DX-_42yT5Osm"
      },
      "execution_count": 15,
      "outputs": []
    },
    {
      "cell_type": "code",
      "source": [
        "# verify start and end are correct\n",
        "print(\"start area:\")\n",
        "print(butl_str[start_idx - 200:start_idx+200])\n",
        "print(\"end area:\")\n",
        "print(butl_str[end_idx - 200:end_idx+200])"
      ],
      "metadata": {
        "colab": {
          "base_uri": "https://localhost:8080/"
        },
        "id": "ogOrNeHg5SSB",
        "outputId": "616316cb-f78b-458e-8efa-40c4590afc68"
      },
      "execution_count": 16,
      "outputs": [
        {
          "output_type": "stream",
          "name": "stdout",
          "text": [
            "start area:\n",
            "y\\xe2\\x80\\x99s School of Art in Streatham Street, Bloomsbury.\\r\\n\\r\\nHENRY FESTING JONES.\\r\\n\\r\\n 120 MAIDA VALE, W.9.\\r\\n4th _December_, 1921.\\r\\n\\r\\nTHE ODYSSEY\\r\\n\\r\\n\\r\\n\\r\\n\\r\\nBOOK I\\r\\n\\r\\n\\r\\nTHE GODS IN COUNCIL\\xe2\\x80\\x94MINERVA\\xe2\\x80\\x99S VISIT TO ITHACA\\xe2\\x80\\x94THE CHALLENGE FROM\\r\\nTELEMACHUS TO THE SUITORS.\\r\\n\\r\\n\\r\\nTell me, O Muse, of that ingenious hero who travelled far and\n",
            "end area:\n",
            "us spoke Minerva, and Ulysses obeyed her gladly. Then Minerva assumed\\r\\nthe form and voice of Mentor, and presently made a covenant of peace\\r\\nbetween the two contending parties.\\r\\n\\r\\n\\r\\n\\r\\n\\r\\nFOOTNOTES:\\r\\n\\r\\n[1] [ Black races are evidently known to the writer as stretching all\\r\\nacross Africa, one half looking West on to the Atlantic, and the other\\r\\nEast on to the Indian Ocean.]\\r\\n\\r\n"
          ]
        }
      ]
    },
    {
      "cell_type": "code",
      "source": [
        "butl_relevant = butl_str[start_idx:end_idx]"
      ],
      "metadata": {
        "id": "ztovDpoF5oY4"
      },
      "execution_count": 17,
      "outputs": []
    },
    {
      "cell_type": "code",
      "source": [
        "butl_sent_df = get_df_from_rel_str(butl_relevant, chars_of_interest)"
      ],
      "metadata": {
        "id": "LuSdacZn6EXO"
      },
      "execution_count": 18,
      "outputs": []
    },
    {
      "cell_type": "code",
      "source": [
        "butl_sent_df.head()"
      ],
      "metadata": {
        "colab": {
          "base_uri": "https://localhost:8080/",
          "height": 669
        },
        "id": "vK-JClez_U5O",
        "outputId": "8ccdaf95-aa1f-4442-be55-563497be8247"
      },
      "execution_count": 19,
      "outputs": [
        {
          "output_type": "execute_result",
          "data": {
            "text/plain": [
              "                                            sentence  polarity  subjectivity  \\\n",
              "0  the gods in council minerva visit to ithaca th...  0.000000      0.000000   \n",
              "1  tell me, o muse, of that ingenious hero who tr...  0.250000      0.850000   \n",
              "2  many cities did he visit, and many were the na...  0.425000      0.631250   \n",
              "3  tell me, too, about all these things, oh daugh...  0.000000      0.000000   \n",
              "4  so now all who escaped death in battle or by s...  0.357143      0.464286   \n",
              "\n",
              "   odysseus  telemachus  penelope  athena  calypso  circe  polyphemus  scylla  \\\n",
              "0     False        True     False    True    False  False       False   False   \n",
              "1     False       False     False   False    False  False       False   False   \n",
              "2     False       False     False   False    False  False       False   False   \n",
              "3     False       False     False   False    False  False       False   False   \n",
              "4      True       False     False   False     True  False       False   False   \n",
              "\n",
              "   antinous  eumaeus  euryclea   zeus  poseidon  num_matches  \n",
              "0     False    False     False  False     False            2  \n",
              "1     False    False     False  False     False            0  \n",
              "2     False    False     False  False     False            0  \n",
              "3     False    False     False   True     False            1  \n",
              "4     False    False     False  False     False            2  "
            ],
            "text/html": [
              "\n",
              "  <div id=\"df-f611869b-f9e3-411b-8db6-87da6f291ae8\">\n",
              "    <div class=\"colab-df-container\">\n",
              "      <div>\n",
              "<style scoped>\n",
              "    .dataframe tbody tr th:only-of-type {\n",
              "        vertical-align: middle;\n",
              "    }\n",
              "\n",
              "    .dataframe tbody tr th {\n",
              "        vertical-align: top;\n",
              "    }\n",
              "\n",
              "    .dataframe thead th {\n",
              "        text-align: right;\n",
              "    }\n",
              "</style>\n",
              "<table border=\"1\" class=\"dataframe\">\n",
              "  <thead>\n",
              "    <tr style=\"text-align: right;\">\n",
              "      <th></th>\n",
              "      <th>sentence</th>\n",
              "      <th>polarity</th>\n",
              "      <th>subjectivity</th>\n",
              "      <th>odysseus</th>\n",
              "      <th>telemachus</th>\n",
              "      <th>penelope</th>\n",
              "      <th>athena</th>\n",
              "      <th>calypso</th>\n",
              "      <th>circe</th>\n",
              "      <th>polyphemus</th>\n",
              "      <th>scylla</th>\n",
              "      <th>antinous</th>\n",
              "      <th>eumaeus</th>\n",
              "      <th>euryclea</th>\n",
              "      <th>zeus</th>\n",
              "      <th>poseidon</th>\n",
              "      <th>num_matches</th>\n",
              "    </tr>\n",
              "  </thead>\n",
              "  <tbody>\n",
              "    <tr>\n",
              "      <th>0</th>\n",
              "      <td>the gods in council minerva visit to ithaca th...</td>\n",
              "      <td>0.000000</td>\n",
              "      <td>0.000000</td>\n",
              "      <td>False</td>\n",
              "      <td>True</td>\n",
              "      <td>False</td>\n",
              "      <td>True</td>\n",
              "      <td>False</td>\n",
              "      <td>False</td>\n",
              "      <td>False</td>\n",
              "      <td>False</td>\n",
              "      <td>False</td>\n",
              "      <td>False</td>\n",
              "      <td>False</td>\n",
              "      <td>False</td>\n",
              "      <td>False</td>\n",
              "      <td>2</td>\n",
              "    </tr>\n",
              "    <tr>\n",
              "      <th>1</th>\n",
              "      <td>tell me, o muse, of that ingenious hero who tr...</td>\n",
              "      <td>0.250000</td>\n",
              "      <td>0.850000</td>\n",
              "      <td>False</td>\n",
              "      <td>False</td>\n",
              "      <td>False</td>\n",
              "      <td>False</td>\n",
              "      <td>False</td>\n",
              "      <td>False</td>\n",
              "      <td>False</td>\n",
              "      <td>False</td>\n",
              "      <td>False</td>\n",
              "      <td>False</td>\n",
              "      <td>False</td>\n",
              "      <td>False</td>\n",
              "      <td>False</td>\n",
              "      <td>0</td>\n",
              "    </tr>\n",
              "    <tr>\n",
              "      <th>2</th>\n",
              "      <td>many cities did he visit, and many were the na...</td>\n",
              "      <td>0.425000</td>\n",
              "      <td>0.631250</td>\n",
              "      <td>False</td>\n",
              "      <td>False</td>\n",
              "      <td>False</td>\n",
              "      <td>False</td>\n",
              "      <td>False</td>\n",
              "      <td>False</td>\n",
              "      <td>False</td>\n",
              "      <td>False</td>\n",
              "      <td>False</td>\n",
              "      <td>False</td>\n",
              "      <td>False</td>\n",
              "      <td>False</td>\n",
              "      <td>False</td>\n",
              "      <td>0</td>\n",
              "    </tr>\n",
              "    <tr>\n",
              "      <th>3</th>\n",
              "      <td>tell me, too, about all these things, oh daugh...</td>\n",
              "      <td>0.000000</td>\n",
              "      <td>0.000000</td>\n",
              "      <td>False</td>\n",
              "      <td>False</td>\n",
              "      <td>False</td>\n",
              "      <td>False</td>\n",
              "      <td>False</td>\n",
              "      <td>False</td>\n",
              "      <td>False</td>\n",
              "      <td>False</td>\n",
              "      <td>False</td>\n",
              "      <td>False</td>\n",
              "      <td>False</td>\n",
              "      <td>True</td>\n",
              "      <td>False</td>\n",
              "      <td>1</td>\n",
              "    </tr>\n",
              "    <tr>\n",
              "      <th>4</th>\n",
              "      <td>so now all who escaped death in battle or by s...</td>\n",
              "      <td>0.357143</td>\n",
              "      <td>0.464286</td>\n",
              "      <td>True</td>\n",
              "      <td>False</td>\n",
              "      <td>False</td>\n",
              "      <td>False</td>\n",
              "      <td>True</td>\n",
              "      <td>False</td>\n",
              "      <td>False</td>\n",
              "      <td>False</td>\n",
              "      <td>False</td>\n",
              "      <td>False</td>\n",
              "      <td>False</td>\n",
              "      <td>False</td>\n",
              "      <td>False</td>\n",
              "      <td>2</td>\n",
              "    </tr>\n",
              "  </tbody>\n",
              "</table>\n",
              "</div>\n",
              "      <button class=\"colab-df-convert\" onclick=\"convertToInteractive('df-f611869b-f9e3-411b-8db6-87da6f291ae8')\"\n",
              "              title=\"Convert this dataframe to an interactive table.\"\n",
              "              style=\"display:none;\">\n",
              "        \n",
              "  <svg xmlns=\"http://www.w3.org/2000/svg\" height=\"24px\"viewBox=\"0 0 24 24\"\n",
              "       width=\"24px\">\n",
              "    <path d=\"M0 0h24v24H0V0z\" fill=\"none\"/>\n",
              "    <path d=\"M18.56 5.44l.94 2.06.94-2.06 2.06-.94-2.06-.94-.94-2.06-.94 2.06-2.06.94zm-11 1L8.5 8.5l.94-2.06 2.06-.94-2.06-.94L8.5 2.5l-.94 2.06-2.06.94zm10 10l.94 2.06.94-2.06 2.06-.94-2.06-.94-.94-2.06-.94 2.06-2.06.94z\"/><path d=\"M17.41 7.96l-1.37-1.37c-.4-.4-.92-.59-1.43-.59-.52 0-1.04.2-1.43.59L10.3 9.45l-7.72 7.72c-.78.78-.78 2.05 0 2.83L4 21.41c.39.39.9.59 1.41.59.51 0 1.02-.2 1.41-.59l7.78-7.78 2.81-2.81c.8-.78.8-2.07 0-2.86zM5.41 20L4 18.59l7.72-7.72 1.47 1.35L5.41 20z\"/>\n",
              "  </svg>\n",
              "      </button>\n",
              "      \n",
              "  <style>\n",
              "    .colab-df-container {\n",
              "      display:flex;\n",
              "      flex-wrap:wrap;\n",
              "      gap: 12px;\n",
              "    }\n",
              "\n",
              "    .colab-df-convert {\n",
              "      background-color: #E8F0FE;\n",
              "      border: none;\n",
              "      border-radius: 50%;\n",
              "      cursor: pointer;\n",
              "      display: none;\n",
              "      fill: #1967D2;\n",
              "      height: 32px;\n",
              "      padding: 0 0 0 0;\n",
              "      width: 32px;\n",
              "    }\n",
              "\n",
              "    .colab-df-convert:hover {\n",
              "      background-color: #E2EBFA;\n",
              "      box-shadow: 0px 1px 2px rgba(60, 64, 67, 0.3), 0px 1px 3px 1px rgba(60, 64, 67, 0.15);\n",
              "      fill: #174EA6;\n",
              "    }\n",
              "\n",
              "    [theme=dark] .colab-df-convert {\n",
              "      background-color: #3B4455;\n",
              "      fill: #D2E3FC;\n",
              "    }\n",
              "\n",
              "    [theme=dark] .colab-df-convert:hover {\n",
              "      background-color: #434B5C;\n",
              "      box-shadow: 0px 1px 3px 1px rgba(0, 0, 0, 0.15);\n",
              "      filter: drop-shadow(0px 1px 2px rgba(0, 0, 0, 0.3));\n",
              "      fill: #FFFFFF;\n",
              "    }\n",
              "  </style>\n",
              "\n",
              "      <script>\n",
              "        const buttonEl =\n",
              "          document.querySelector('#df-f611869b-f9e3-411b-8db6-87da6f291ae8 button.colab-df-convert');\n",
              "        buttonEl.style.display =\n",
              "          google.colab.kernel.accessAllowed ? 'block' : 'none';\n",
              "\n",
              "        async function convertToInteractive(key) {\n",
              "          const element = document.querySelector('#df-f611869b-f9e3-411b-8db6-87da6f291ae8');\n",
              "          const dataTable =\n",
              "            await google.colab.kernel.invokeFunction('convertToInteractive',\n",
              "                                                     [key], {});\n",
              "          if (!dataTable) return;\n",
              "\n",
              "          const docLinkHtml = 'Like what you see? Visit the ' +\n",
              "            '<a target=\"_blank\" href=https://colab.research.google.com/notebooks/data_table.ipynb>data table notebook</a>'\n",
              "            + ' to learn more about interactive tables.';\n",
              "          element.innerHTML = '';\n",
              "          dataTable['output_type'] = 'display_data';\n",
              "          await google.colab.output.renderOutput(dataTable, element);\n",
              "          const docLink = document.createElement('div');\n",
              "          docLink.innerHTML = docLinkHtml;\n",
              "          element.appendChild(docLink);\n",
              "        }\n",
              "      </script>\n",
              "    </div>\n",
              "  </div>\n",
              "  "
            ]
          },
          "metadata": {},
          "execution_count": 19
        }
      ]
    },
    {
      "cell_type": "markdown",
      "source": [
        "## Butcher"
      ],
      "metadata": {
        "id": "rMPIJ-7T4Yy4"
      }
    },
    {
      "cell_type": "code",
      "source": [
        "# https://www.gutenberg.org/ebooks/1728\n",
        "butch_str = get_str(\"https://www.gutenberg.org/files/1728/1728-0.txt\")"
      ],
      "metadata": {
        "id": "cMxmPobz4YFD"
      },
      "execution_count": 20,
      "outputs": []
    },
    {
      "cell_type": "code",
      "source": [
        "# let's get rid of everything before \"THE beginning of\" and after \"FOOTNOTES\"\n",
        "start_idx = butch_str.find(\"In a Council of the Gods\")\n",
        "end_idx = butch_str.find(\"End of the Project Gutenberg\", start_idx)"
      ],
      "metadata": {
        "id": "-EIQYQaA4acV"
      },
      "execution_count": 21,
      "outputs": []
    },
    {
      "cell_type": "code",
      "source": [
        "# verify start and end are correct\n",
        "print(\"start area:\")\n",
        "print(butch_str[start_idx-50:start_idx+500])\n",
        "print(\"end area:\")\n",
        "print(butch_str[end_idx - 200:end_idx+200])"
      ],
      "metadata": {
        "colab": {
          "base_uri": "https://localhost:8080/"
        },
        "id": "e77xLyylA2ZB",
        "outputId": "4ee47d14-62c6-4d94-b2a5-cea5947beba4"
      },
      "execution_count": 22,
      "outputs": [
        {
          "output_type": "stream",
          "name": "stdout",
          "text": [
            "start area:\n",
            "\\r\\nThe Odyssey\\r\\n\\r\\n\\r\\n\\r\\nBOOK I.\\r\\n\\r\\n\\r\\nIn a Council of the Gods, Poseidon absent, Pallas procureth an order\\r\\nfor the restitution of Odysseus; and appearing to his son Telemachus,\\r\\nin human shape, adviseth him to complain of the Wooers before the\\r\\nCouncil of the people, and then go to Pylos and Sparta to inquire about\\r\\nhis father.\\r\\n\\r\\n\\r\\nTell me, Muse, of that man, so ready at need, who wandered far and\\r\\nwide, after he had sacked the sacred citadel of Troy, and many were the\\r\\nmen whose towns he saw and whose mind he le\n",
            "end area:\n",
            "reen our human shore\\r\\n     As Nilus, Egypt, rolling down his vast,\\r\\n His fertile waters, murmuring evermore\\r\\n     Of gods dethroned, and empires of the Past.\\r\\n\\r\\n\\r\\nA. L.\\r\\n\\r\\n\\r\\n\\r\\n\\r\\nEnd of the Project Gutenberg EBook of The Odyssey, by Homer\\r\\n\\r\\n*** END OF THIS PROJECT GUTENBERG EBOOK THE ODYSSEY ***\\r\\n\\r\\n***** This file should be named 1728-h.htm or 1728-h.zip *****\\r\\nThis\n"
          ]
        }
      ]
    },
    {
      "cell_type": "code",
      "source": [
        "butch_relevant = butch_str[start_idx:end_idx]"
      ],
      "metadata": {
        "id": "2dd-FlfJBPNR"
      },
      "execution_count": 23,
      "outputs": []
    },
    {
      "cell_type": "code",
      "source": [
        "butch_sent_df = get_df_from_rel_str(butch_relevant, chars_of_interest)"
      ],
      "metadata": {
        "id": "j7_yypD_BSfL"
      },
      "execution_count": 24,
      "outputs": []
    },
    {
      "cell_type": "code",
      "source": [
        "top_euryclea = butch_sent_df[butch_sent_df[\"euryclea\"]].sort_values(by=\"polarity\", ascending=False)"
      ],
      "metadata": {
        "id": "PFWbc8mp3N-Q"
      },
      "execution_count": 25,
      "outputs": []
    },
    {
      "cell_type": "code",
      "source": [
        "top_euryclea[0:20][\"sentence\"]"
      ],
      "metadata": {
        "colab": {
          "base_uri": "https://localhost:8080/"
        },
        "id": "Dg92QRdP30-n",
        "outputId": "6b82602d-9c12-49cf-cc5a-19ece78b3de8"
      },
      "execution_count": 26,
      "outputs": [
        {
          "output_type": "execute_result",
          "data": {
            "text/plain": [
              "4159    then the good nurse eurycleia answered him: ye...\n",
              "3663    then wise eurycleia answered, saying: my child...\n",
              "4179    then the good nurse eurycleia made answer: yea...\n",
              "3503    thus he spake, and telemachus hearkened to his...\n",
              "4007    and he called forth the nurse eurycleia from t...\n",
              "4182    so he spake, and the good nurse eurycleia was ...\n",
              "4150    then odysseus of many counsels spake to telema...\n",
              "3633    now autolycus once had gone to the rich land o...\n",
              "4194    then the good nurse eurycleia answered her: i ...\n",
              "794     then the good nurse eurycleia answered her: de...\n",
              "292     and the close-fitted doors, the folding doors,...\n",
              "4178    so odysseus called to the good nurse eurycleia...\n",
              "3505    then the good nurse eurycleia answered him, sa...\n",
              "4198    then the good nurse eurycleia answered her: i ...\n",
              "298     so spake he, and the good nurse eurycleia wail...\n",
              "4253    but come, eurycleia, spread for him the good b...\n",
              "4211    then the good nurse eurycleia made answer to h...\n",
              "3761    but the good lady eurycleia, daughter of ops s...\n",
              "158     but telemachus, where his chamber was builded ...\n",
              "3618    up now, wise eurycleia, and wash this man, who...\n",
              "Name: sentence, dtype: object"
            ]
          },
          "metadata": {},
          "execution_count": 26
        }
      ]
    },
    {
      "cell_type": "code",
      "source": [
        "top_penelope = butch_sent_df[butch_sent_df[\"penelope\"]].sort_values(by=\"polarity\", ascending=False)"
      ],
      "metadata": {
        "id": "T7sek5zQ6QwL"
      },
      "execution_count": 27,
      "outputs": []
    },
    {
      "cell_type": "code",
      "source": [
        "top_penelope[0:20][\"sentence\"]"
      ],
      "metadata": {
        "colab": {
          "base_uri": "https://localhost:8080/"
        },
        "id": "9OH1906k6VX-",
        "outputId": "2f439bda-f00f-4618-e32f-5fd71fd16fbd"
      },
      "execution_count": 28,
      "outputs": [
        {
          "output_type": "execute_result",
          "data": {
            "text/plain": [
              "3600                 then wise penelope answered him: ah!\n",
              "3275    now when wise penelope heard of the stranger b...\n",
              "3455    yet, for all that, sorrow for penelope touched...\n",
              "919     myself i know it well, how wise penelope is me...\n",
              "2603    but as for me i dwell apart by the swine and g...\n",
              "3294    and penelope laughed, and straightway spake to...\n",
              "4225    then wise penelope answered him, saying: child...\n",
              "3288    then wise penelope answered him, saying: go, c...\n",
              "4205    . . . . then wise penelope answered her: dear ...\n",
              "3313    then the wise penelope answered: not witless i...\n",
              "3987    then wise penelope answered him: eurymachus, n...\n",
              "3857    now the daughter of icarius, wise penelope, ha...\n",
              "3615    then wise penelope answered him: dear stranger...\n",
              "3393    now the goddess, grey-eyed athene, put it into...\n",
              "3454    and the fair melantho chid him shamefully, mel...\n",
              "3302    then the steadfast goodly odysseus answered hi...\n",
              "3537    then wise penelope answered him, and said: str...\n",
              "3427    but eurymachus spake to penelope, saying: daug...\n",
              "3428    then wise penelope answered him: eurymachus, s...\n",
              "2681    there do thou rest the night, and bid him go t...\n",
              "Name: sentence, dtype: object"
            ]
          },
          "metadata": {},
          "execution_count": 28
        }
      ]
    },
    {
      "cell_type": "code",
      "source": [
        "top_odysseus = butch_sent_df[butch_sent_df[\"odysseus\"]].sort_values(by=\"polarity\", ascending=False)"
      ],
      "metadata": {
        "id": "Tf97fwd_7QoE"
      },
      "execution_count": 29,
      "outputs": []
    },
    {
      "cell_type": "code",
      "source": [
        "top_odysseus[0:20][\"sentence\"]"
      ],
      "metadata": {
        "colab": {
          "base_uri": "https://localhost:8080/"
        },
        "id": "GQyeoSeW7T6v",
        "outputId": "26a0df5f-f0fa-4ebb-85fe-23c4654d0a15"
      },
      "execution_count": 30,
      "outputs": [
        {
          "output_type": "execute_result",
          "data": {
            "text/plain": [
              "1076    then the goodly odysseus awoke and sat up, pon...\n",
              "3638    therefore it was that odysseus went to receive...\n",
              "3982    dost thou think if yonder stranger strings the...\n",
              "4465    so soon as they looked on odysseus and took kn...\n",
              "3595    and he showed me all the wealth that odysseus ...\n",
              "894     therewith the great slayer of argos departed, ...\n",
              "3215    then odysseus of many counsels answered him an...\n",
              "3292    oh, if odysseus might come again to his own co...\n",
              "4234    and odysseus of many counsels answered him say...\n",
              "382     now look you, all the while that myself and go...\n",
              "1127    then she called on odysseus, and spake and hai...\n",
              "2470    and after they twain had taken this counsel to...\n",
              "942     and goodly odysseus rejoiced as he set his sai...\n",
              "2901    and goodly odysseus took note of the fawning o...\n",
              "802     if ever wise odysseus in his halls burnt for t...\n",
              "4099    but when with the sword we shall have overcome...\n",
              "359     and she gave telemachus the fair two-handled c...\n",
              "4408    so with this intent the goodly odysseus went u...\n",
              "3280    so she spake among her maidens, sitting in her...\n",
              "3739    now goodly odysseus caught the voice of her we...\n",
              "Name: sentence, dtype: object"
            ]
          },
          "metadata": {},
          "execution_count": 30
        }
      ]
    },
    {
      "cell_type": "code",
      "source": [
        "top_telemachus = butch_sent_df[butch_sent_df[\"telemachus\"]].sort_values(by=\"polarity\", ascending=False)"
      ],
      "metadata": {
        "id": "l5piUjJ28Hf9"
      },
      "execution_count": 32,
      "outputs": []
    },
    {
      "cell_type": "code",
      "source": [
        "top_telemachus[0:20][\"sentence\"]"
      ],
      "metadata": {
        "id": "ZkSSrk-G8K1x",
        "outputId": "09318853-e566-455b-eefb-f14a5e9bf804",
        "colab": {
          "base_uri": "https://localhost:8080/"
        }
      },
      "execution_count": 33,
      "outputs": [
        {
          "output_type": "execute_result",
          "data": {
            "text/plain": [
              "2997    then wise telemachus answered him, saying: val...\n",
              "532     meanwhile those twain, the hero telemachus and...\n",
              "627     thus they slept there in the vestibule of the ...\n",
              "3242    then antinous answered him and spake, saying: ...\n",
              "410     and wise telemachus answered him, and said: ne...\n",
              "3215    then odysseus of many counsels answered him an...\n",
              "2990    then wise telemachus answered him, saying: ver...\n",
              "2919    now when they had put from them the desire of ...\n",
              "2728    and wise telemachus answered him, saying: yea ...\n",
              "359     and she gave telemachus the fair two-handled c...\n",
              "425     and wise telemachus answered her, saying: ment...\n",
              "507     meanwhile she bathed telemachus, even fair pol...\n",
              "632     then wise telemachus answered him, and said: m...\n",
              "780     they are set on slaying telemachus with the ed...\n",
              "2747    then telemachus spake unto the son of nestor, ...\n",
              "2736    then wise telemachus answered her, saying: now...\n",
              "303     then wise telemachus answered her, saying: tak...\n",
              "3111    then wise telemachus answered him, saying: pir...\n",
              "3123    and wise telemachus answered her, saying: yea ...\n",
              "3321    and wise telemachus answered him, and said: ev...\n",
              "Name: sentence, dtype: object"
            ]
          },
          "metadata": {},
          "execution_count": 33
        }
      ]
    },
    {
      "cell_type": "markdown",
      "source": [
        "## Pope"
      ],
      "metadata": {
        "id": "Eh5YFnOw4WGO"
      }
    },
    {
      "cell_type": "code",
      "source": [
        "# https://www.gutenberg.org/ebooks/3160\n",
        "pope_str = get_str(\"https://www.gutenberg.org/files/3160/3160-0.txt\")"
      ],
      "metadata": {
        "id": "GX-9Gg_H4a1Y"
      },
      "execution_count": 34,
      "outputs": []
    },
    {
      "cell_type": "code",
      "source": [
        "start_idx = pope_str.find(\"ARGUMENT\")\n",
        "end_idx = pope_str.find(\"*** END OF THE PROJECT GUTENBERG EBOOK THE ODYSSEY ***\", start_idx)"
      ],
      "metadata": {
        "id": "40AIA2zNCe1l"
      },
      "execution_count": 36,
      "outputs": []
    },
    {
      "cell_type": "code",
      "source": [
        "# verify start and end are correct\n",
        "print(\"start area:\")\n",
        "print(pope_str[start_idx-50:start_idx+500])\n",
        "print(\"end area:\")\n",
        "print(pope_str[end_idx - 200:end_idx+200])"
      ],
      "metadata": {
        "colab": {
          "base_uri": "https://localhost:8080/"
        },
        "id": "1mrOuBwoCrgA",
        "outputId": "6d45411a-c464-4df2-aa28-d5c0be0fe159"
      },
      "execution_count": 37,
      "outputs": [
        {
          "output_type": "stream",
          "name": "stdout",
          "text": [
            "start area:\n",
            "E ODYSSEY OF HOMER.\\r\\n\\r\\n\\r\\nBOOK I.\\r\\n\\r\\n\\r\\nARGUMENT.\\r\\nMINERVA\\xe2\\x80\\x99S DESCENT TO ITHACA.\\r\\n\\r\\n\\r\\nThe poem opens within forty eight days of the arrival of Ulysses in his\\r\\ndominions. He had now remained seven years in the Island of Calypso,\\r\\nwhen the gods assembled in council, proposed the method of his\\r\\ndeparture from thence and his return to his native country. For this\\r\\npurpose it is concluded to send Mercury to Calypso, and Pallas\\r\\nimmediately descends to Ithaca. She holds a conference with Telemachus,\\r\\nin the sha\n",
            "end area:\n",
            "m above\\r\\nThe king obey\\xe2\\x80\\x99d. The virgin-seed of Jove,\\r\\nIn Mentor\\xe2\\x80\\x99s form, confirm\\xe2\\x80\\x99d the full accord,\\r\\nAnd willing nations knew their lawful lord.\\r\\n\\r\\n\\r\\n\\r\\n\\r\\n*** END OF THE PROJECT GUTENBERG EBOOK THE ODYSSEY ***\\r\\n\\r\\nUpdated editions will replace the previous one--the old editions will\\r\\nbe renamed.\\r\\n\\r\\nCreating the works from print editions not pro\n"
          ]
        }
      ]
    },
    {
      "cell_type": "code",
      "source": [
        "pope_relevant = pope_str[start_idx:end_idx]"
      ],
      "metadata": {
        "id": "55lDorxuCwJI"
      },
      "execution_count": 38,
      "outputs": []
    },
    {
      "cell_type": "code",
      "source": [
        "pope_sent_df = get_df_from_rel_str(pope_relevant, chars_of_interest)"
      ],
      "metadata": {
        "id": "-qzdhW6kC4_k"
      },
      "execution_count": 39,
      "outputs": []
    },
    {
      "cell_type": "markdown",
      "source": [
        "## Cowper"
      ],
      "metadata": {
        "id": "1jH_g1O04bBD"
      }
    },
    {
      "cell_type": "code",
      "source": [
        "# https://www.gutenberg.org/ebooks/24269\n",
        "cowper_str = get_str(\"https://www.gutenberg.org/files/24269/24269-0.txt\")"
      ],
      "metadata": {
        "id": "o5udSyp_4c3C"
      },
      "execution_count": 40,
      "outputs": []
    },
    {
      "cell_type": "code",
      "source": [
        "# get rid of unnecessary parts of texts\n",
        "# TODO: there are still footnotes every chapter.\n",
        "start_idx = cowper_str.find(\"ARGUMENT\")\n",
        "end_idx = cowper_str.find(\"END OF THE ODYSSEY\", start_idx)"
      ],
      "metadata": {
        "id": "jfEb1KEQDmdJ"
      },
      "execution_count": 41,
      "outputs": []
    },
    {
      "cell_type": "code",
      "source": [
        "# verify start and end are correct\n",
        "print(\"start area:\")\n",
        "print(cowper_str[start_idx-50:start_idx+500])\n",
        "print(\"end area:\")\n",
        "print(cowper_str[end_idx - 200:end_idx+200])"
      ],
      "metadata": {
        "colab": {
          "base_uri": "https://localhost:8080/"
        },
        "id": "GDkN32b9DvUU",
        "outputId": "5aba880b-fd1a-4e8b-894f-007d143f3bd2"
      },
      "execution_count": 42,
      "outputs": [
        {
          "output_type": "stream",
          "name": "stdout",
          "text": [
            "start area:\n",
            "LISH BLANK VERSE\\r\\n\\r\\n\\r\\n\\r\\n\\r\\nBOOK I\\r\\n\\r\\nARGUMENT\\r\\n\\r\\nIn a council of the Gods, Minerva calls their attention to Ulysses, still\\r\\na wanderer. They resolve to grant him a safe return to Ithaca. Minerva\\r\\ndescends to encourage Telemachus, and in the form of Mentes directs him\\r\\nin what manner to proceed. Throughout this book the extravagance and\\r\\nprofligacy of the suitors are occasionally suggested.\\r\\n\\r\\n\\r\\n    Muse make the man thy theme, for shrewdness famed\\r\\n    And genius versatile, who far and wide\\r\\n    A Wand\\'rer, a\n",
            "end area:\n",
            "xb9 \\xe1\\xbc\\xa1\\xce\\xbc\\xe1\\xbd\\xb3\\xcf\\x81\\xce\\xb7 \\xe1\\xbc\\xa5\\xce\\xb4\\xce\\xb5;--So Cicero, who seems to translate it--Proh\\r\\ndii immortales! Quis hic illuxit dies! See Clarke in loco.\\r\\n\\r\\n\\r\\nEND OF THE ODYSSEY\\r\\n\\r\\n\\r\\n\\r\\n\\r\\nNOTES\\r\\n\\r\\n\\r\\nNOTE I.\\r\\n\\r\\nBk. x. l. 101-106 (Hom. x. l. 81-86).--It is held now that this passage\\r\\nshould be explained by the supposition that the Homeric\n"
          ]
        }
      ]
    },
    {
      "cell_type": "code",
      "source": [
        "cowper_relevant = cowper_str[start_idx:end_idx]"
      ],
      "metadata": {
        "id": "gtDfiT4qELRZ"
      },
      "execution_count": 43,
      "outputs": []
    },
    {
      "cell_type": "code",
      "source": [
        "cowp_sent_df = get_df_from_rel_str(cowper_relevant, chars_of_interest)"
      ],
      "metadata": {
        "id": "BjtLBQxwDzyA"
      },
      "execution_count": 44,
      "outputs": []
    },
    {
      "cell_type": "markdown",
      "source": [
        "# Create Full DF's"
      ],
      "metadata": {
        "id": "xHE2LsYlEkGX"
      }
    },
    {
      "cell_type": "code",
      "source": [
        "# standardize by subtracting mean and dividing by sd for all entries in the df\n",
        "# standardize every column in col_names_list\n",
        "def get_standardized(raw_df, col_names_list):\n",
        "  for col_name in col_names_list:\n",
        "    raw_df[f\"standardized_{col_name}\"] = (raw_df[col_name] - raw_df[col_name].mean())/raw_df[col_name].std()"
      ],
      "metadata": {
        "id": "KrxgtLOoT1lg"
      },
      "execution_count": 45,
      "outputs": []
    },
    {
      "cell_type": "code",
      "source": [
        "cols_to_standardize = [\"polarity\", \"subjectivity\"]"
      ],
      "metadata": {
        "id": "MSqCTf5NZn4y"
      },
      "execution_count": 46,
      "outputs": []
    },
    {
      "cell_type": "code",
      "source": [
        "get_standardized(butl_sent_df, cols_to_standardize)\n",
        "butl_sent_df[\"Translation\"] = \"Butler\""
      ],
      "metadata": {
        "id": "pv47ULb9Z1lX"
      },
      "execution_count": 47,
      "outputs": []
    },
    {
      "cell_type": "code",
      "source": [
        "get_standardized(butch_sent_df, cols_to_standardize)\n",
        "butch_sent_df[\"Translation\"] = \"Butcher\""
      ],
      "metadata": {
        "id": "s4sUg2nfE2ze"
      },
      "execution_count": 48,
      "outputs": []
    },
    {
      "cell_type": "code",
      "source": [
        "get_standardized(pope_sent_df, cols_to_standardize)\n",
        "pope_sent_df[\"Translation\"] = \"Pope\""
      ],
      "metadata": {
        "id": "haLiDk8bE5ap"
      },
      "execution_count": 49,
      "outputs": []
    },
    {
      "cell_type": "code",
      "source": [
        "get_standardized(cowp_sent_df, cols_to_standardize)\n",
        "cowp_sent_df[\"Translation\"] = \"Cowper\""
      ],
      "metadata": {
        "id": "jb5jrF-pE8Ly"
      },
      "execution_count": 50,
      "outputs": []
    },
    {
      "cell_type": "code",
      "source": [
        "full_sent_df = pd.concat([butl_sent_df, butch_sent_df, pope_sent_df, cowp_sent_df])"
      ],
      "metadata": {
        "id": "PSetzfdlFAAh"
      },
      "execution_count": 51,
      "outputs": []
    },
    {
      "cell_type": "code",
      "source": [
        "# output df so that Visual Analysis can be done in R\n",
        "full_sent_df.to_csv(\"full_sent_df.csv\")"
      ],
      "metadata": {
        "id": "L26BNms1FVCE"
      },
      "execution_count": 52,
      "outputs": []
    },
    {
      "cell_type": "markdown",
      "source": [
        "# Create Characters Df"
      ],
      "metadata": {
        "id": "7jC34AKJaaDc"
      }
    },
    {
      "cell_type": "code",
      "source": [
        "import numpy as np"
      ],
      "metadata": {
        "id": "ySewYwkSASbw"
      },
      "execution_count": 53,
      "outputs": []
    },
    {
      "cell_type": "code",
      "source": [
        "butl_sent_df[\"standardized_subjectivity\"].std()"
      ],
      "metadata": {
        "colab": {
          "base_uri": "https://localhost:8080/"
        },
        "id": "sluaKOOdwlv4",
        "outputId": "ba285855-4a0e-4f29-b23d-f88cf3caa484"
      },
      "execution_count": 54,
      "outputs": [
        {
          "output_type": "execute_result",
          "data": {
            "text/plain": [
              "1.0"
            ]
          },
          "metadata": {},
          "execution_count": 54
        }
      ]
    },
    {
      "cell_type": "code",
      "source": [
        "# returns a list of the stats as a dict for each translation\n",
        "def get_stats_dicts(sent_df, word):\n",
        "  row_list = []\n",
        "\n",
        "  translation_cats = sent_df[\"Translation\"].unique()\n",
        "  translation_cats = np.append(translation_cats, \"All\")\n",
        "\n",
        "  for translation in translation_cats:\n",
        "    # filters down for the translation in question\n",
        "    if translation == \"All\":\n",
        "      # don't filter anything\n",
        "      filtered_df = sent_df\n",
        "    else:\n",
        "      filtered_df = sent_df[sent_df[\"Translation\"] == translation]\n",
        "\n",
        "    # filter down for the word in question\n",
        "    filtered_df = filtered_df[filtered_df[word] == True]\n",
        "\n",
        "    row = {}\n",
        "    cols_list = [\"polarity\", \"subjectivity\", \n",
        "                \"standardized_polarity\", \"standardized_subjectivity\"]\n",
        "    row[\"word\"] = word\n",
        "    # mean and std must be calculated for each stat\n",
        "    for col in cols_list:\n",
        "      row[f\"mean_{col}\"] = filtered_df[col].mean()\n",
        "      row[f\"std_{col}\"] = filtered_df[col].std()\n",
        "    # number of observations used in calc\n",
        "    row[f\"n\"] = len(filtered_df.index)\n",
        "    # keep track of the translation category\n",
        "    row[\"Translation\"] = translation\n",
        "\n",
        "    # add row to list of rows for each translation category\n",
        "    row_list.append(row)\n",
        "\n",
        "  # return the list of rows created\n",
        "  return row_list"
      ],
      "metadata": {
        "id": "rS1WhJCg_m6E"
      },
      "execution_count": 55,
      "outputs": []
    },
    {
      "cell_type": "code",
      "source": [
        "# returns df of words of interest and their mean polarity and subjectivity for both normal and standardized\n",
        "# each row contains char name,\n",
        "# mean, std, n for polartity, subjectivity, and standardized versions\n",
        "# also the Translation version\n",
        "# one character will have an observation for All as well as for each Translation\n",
        "def get_results(blob_df, words_of_interest):\n",
        "  data = []\n",
        "\n",
        "  for word in words_of_interest:\n",
        "    filtered_df = blob_df[blob_df[word] == True]\n",
        "    # get stats for overall\n",
        "    # mean, sd, n\n",
        "    # get stats for each translation\n",
        "    row_list = get_stats_dicts(filtered_df, word)\n",
        "    # add rows to data\n",
        "    data.extend(row_list)\n",
        "\n",
        "  # create df\n",
        "  return pd.DataFrame(data)"
      ],
      "metadata": {
        "id": "DQVPbgJu_nkQ"
      },
      "execution_count": 56,
      "outputs": []
    },
    {
      "cell_type": "code",
      "source": [
        "characters_df = get_results(full_sent_df, plain_char_list)"
      ],
      "metadata": {
        "id": "U_T6sA9MacVD"
      },
      "execution_count": 57,
      "outputs": []
    },
    {
      "cell_type": "code",
      "source": [
        "characters_df.head()"
      ],
      "metadata": {
        "colab": {
          "base_uri": "https://localhost:8080/",
          "height": 270
        },
        "id": "MZZkdh9rlUYZ",
        "outputId": "bdc1ee9b-5201-4a3b-87ad-5a550f2349d8"
      },
      "execution_count": 58,
      "outputs": [
        {
          "output_type": "execute_result",
          "data": {
            "text/plain": [
              "       word  mean_polarity  std_polarity  mean_subjectivity  std_subjectivity  \\\n",
              "0  odysseus       0.121141      0.264811           0.409239          0.289994   \n",
              "1  odysseus       0.207243      0.277861           0.493731          0.254640   \n",
              "2  odysseus       0.115081      0.310457           0.431718          0.310549   \n",
              "3  odysseus       0.105089      0.295043           0.411362          0.313248   \n",
              "4  odysseus       0.141506      0.288051           0.438882          0.292157   \n",
              "\n",
              "   mean_standardized_polarity  std_standardized_polarity  \\\n",
              "0                    0.044936                   0.963289   \n",
              "1                    0.213880                   0.923894   \n",
              "2                    0.086914                   1.048933   \n",
              "3                    0.070421                   1.067528   \n",
              "4                    0.108958                   0.996785   \n",
              "\n",
              "   mean_standardized_subjectivity  std_standardized_subjectivity     n  \\\n",
              "0                        0.054610                       0.983078   554   \n",
              "1                        0.181441                       0.847572   603   \n",
              "2                        0.109773                       0.967026   373   \n",
              "3                        0.180413                       0.953927   508   \n",
              "4                        0.133591                       0.935394  2038   \n",
              "\n",
              "  Translation  \n",
              "0      Butler  \n",
              "1     Butcher  \n",
              "2        Pope  \n",
              "3      Cowper  \n",
              "4         All  "
            ],
            "text/html": [
              "\n",
              "  <div id=\"df-58e8d4e1-0902-4c67-9592-228fa5618f03\">\n",
              "    <div class=\"colab-df-container\">\n",
              "      <div>\n",
              "<style scoped>\n",
              "    .dataframe tbody tr th:only-of-type {\n",
              "        vertical-align: middle;\n",
              "    }\n",
              "\n",
              "    .dataframe tbody tr th {\n",
              "        vertical-align: top;\n",
              "    }\n",
              "\n",
              "    .dataframe thead th {\n",
              "        text-align: right;\n",
              "    }\n",
              "</style>\n",
              "<table border=\"1\" class=\"dataframe\">\n",
              "  <thead>\n",
              "    <tr style=\"text-align: right;\">\n",
              "      <th></th>\n",
              "      <th>word</th>\n",
              "      <th>mean_polarity</th>\n",
              "      <th>std_polarity</th>\n",
              "      <th>mean_subjectivity</th>\n",
              "      <th>std_subjectivity</th>\n",
              "      <th>mean_standardized_polarity</th>\n",
              "      <th>std_standardized_polarity</th>\n",
              "      <th>mean_standardized_subjectivity</th>\n",
              "      <th>std_standardized_subjectivity</th>\n",
              "      <th>n</th>\n",
              "      <th>Translation</th>\n",
              "    </tr>\n",
              "  </thead>\n",
              "  <tbody>\n",
              "    <tr>\n",
              "      <th>0</th>\n",
              "      <td>odysseus</td>\n",
              "      <td>0.121141</td>\n",
              "      <td>0.264811</td>\n",
              "      <td>0.409239</td>\n",
              "      <td>0.289994</td>\n",
              "      <td>0.044936</td>\n",
              "      <td>0.963289</td>\n",
              "      <td>0.054610</td>\n",
              "      <td>0.983078</td>\n",
              "      <td>554</td>\n",
              "      <td>Butler</td>\n",
              "    </tr>\n",
              "    <tr>\n",
              "      <th>1</th>\n",
              "      <td>odysseus</td>\n",
              "      <td>0.207243</td>\n",
              "      <td>0.277861</td>\n",
              "      <td>0.493731</td>\n",
              "      <td>0.254640</td>\n",
              "      <td>0.213880</td>\n",
              "      <td>0.923894</td>\n",
              "      <td>0.181441</td>\n",
              "      <td>0.847572</td>\n",
              "      <td>603</td>\n",
              "      <td>Butcher</td>\n",
              "    </tr>\n",
              "    <tr>\n",
              "      <th>2</th>\n",
              "      <td>odysseus</td>\n",
              "      <td>0.115081</td>\n",
              "      <td>0.310457</td>\n",
              "      <td>0.431718</td>\n",
              "      <td>0.310549</td>\n",
              "      <td>0.086914</td>\n",
              "      <td>1.048933</td>\n",
              "      <td>0.109773</td>\n",
              "      <td>0.967026</td>\n",
              "      <td>373</td>\n",
              "      <td>Pope</td>\n",
              "    </tr>\n",
              "    <tr>\n",
              "      <th>3</th>\n",
              "      <td>odysseus</td>\n",
              "      <td>0.105089</td>\n",
              "      <td>0.295043</td>\n",
              "      <td>0.411362</td>\n",
              "      <td>0.313248</td>\n",
              "      <td>0.070421</td>\n",
              "      <td>1.067528</td>\n",
              "      <td>0.180413</td>\n",
              "      <td>0.953927</td>\n",
              "      <td>508</td>\n",
              "      <td>Cowper</td>\n",
              "    </tr>\n",
              "    <tr>\n",
              "      <th>4</th>\n",
              "      <td>odysseus</td>\n",
              "      <td>0.141506</td>\n",
              "      <td>0.288051</td>\n",
              "      <td>0.438882</td>\n",
              "      <td>0.292157</td>\n",
              "      <td>0.108958</td>\n",
              "      <td>0.996785</td>\n",
              "      <td>0.133591</td>\n",
              "      <td>0.935394</td>\n",
              "      <td>2038</td>\n",
              "      <td>All</td>\n",
              "    </tr>\n",
              "  </tbody>\n",
              "</table>\n",
              "</div>\n",
              "      <button class=\"colab-df-convert\" onclick=\"convertToInteractive('df-58e8d4e1-0902-4c67-9592-228fa5618f03')\"\n",
              "              title=\"Convert this dataframe to an interactive table.\"\n",
              "              style=\"display:none;\">\n",
              "        \n",
              "  <svg xmlns=\"http://www.w3.org/2000/svg\" height=\"24px\"viewBox=\"0 0 24 24\"\n",
              "       width=\"24px\">\n",
              "    <path d=\"M0 0h24v24H0V0z\" fill=\"none\"/>\n",
              "    <path d=\"M18.56 5.44l.94 2.06.94-2.06 2.06-.94-2.06-.94-.94-2.06-.94 2.06-2.06.94zm-11 1L8.5 8.5l.94-2.06 2.06-.94-2.06-.94L8.5 2.5l-.94 2.06-2.06.94zm10 10l.94 2.06.94-2.06 2.06-.94-2.06-.94-.94-2.06-.94 2.06-2.06.94z\"/><path d=\"M17.41 7.96l-1.37-1.37c-.4-.4-.92-.59-1.43-.59-.52 0-1.04.2-1.43.59L10.3 9.45l-7.72 7.72c-.78.78-.78 2.05 0 2.83L4 21.41c.39.39.9.59 1.41.59.51 0 1.02-.2 1.41-.59l7.78-7.78 2.81-2.81c.8-.78.8-2.07 0-2.86zM5.41 20L4 18.59l7.72-7.72 1.47 1.35L5.41 20z\"/>\n",
              "  </svg>\n",
              "      </button>\n",
              "      \n",
              "  <style>\n",
              "    .colab-df-container {\n",
              "      display:flex;\n",
              "      flex-wrap:wrap;\n",
              "      gap: 12px;\n",
              "    }\n",
              "\n",
              "    .colab-df-convert {\n",
              "      background-color: #E8F0FE;\n",
              "      border: none;\n",
              "      border-radius: 50%;\n",
              "      cursor: pointer;\n",
              "      display: none;\n",
              "      fill: #1967D2;\n",
              "      height: 32px;\n",
              "      padding: 0 0 0 0;\n",
              "      width: 32px;\n",
              "    }\n",
              "\n",
              "    .colab-df-convert:hover {\n",
              "      background-color: #E2EBFA;\n",
              "      box-shadow: 0px 1px 2px rgba(60, 64, 67, 0.3), 0px 1px 3px 1px rgba(60, 64, 67, 0.15);\n",
              "      fill: #174EA6;\n",
              "    }\n",
              "\n",
              "    [theme=dark] .colab-df-convert {\n",
              "      background-color: #3B4455;\n",
              "      fill: #D2E3FC;\n",
              "    }\n",
              "\n",
              "    [theme=dark] .colab-df-convert:hover {\n",
              "      background-color: #434B5C;\n",
              "      box-shadow: 0px 1px 3px 1px rgba(0, 0, 0, 0.15);\n",
              "      filter: drop-shadow(0px 1px 2px rgba(0, 0, 0, 0.3));\n",
              "      fill: #FFFFFF;\n",
              "    }\n",
              "  </style>\n",
              "\n",
              "      <script>\n",
              "        const buttonEl =\n",
              "          document.querySelector('#df-58e8d4e1-0902-4c67-9592-228fa5618f03 button.colab-df-convert');\n",
              "        buttonEl.style.display =\n",
              "          google.colab.kernel.accessAllowed ? 'block' : 'none';\n",
              "\n",
              "        async function convertToInteractive(key) {\n",
              "          const element = document.querySelector('#df-58e8d4e1-0902-4c67-9592-228fa5618f03');\n",
              "          const dataTable =\n",
              "            await google.colab.kernel.invokeFunction('convertToInteractive',\n",
              "                                                     [key], {});\n",
              "          if (!dataTable) return;\n",
              "\n",
              "          const docLinkHtml = 'Like what you see? Visit the ' +\n",
              "            '<a target=\"_blank\" href=https://colab.research.google.com/notebooks/data_table.ipynb>data table notebook</a>'\n",
              "            + ' to learn more about interactive tables.';\n",
              "          element.innerHTML = '';\n",
              "          dataTable['output_type'] = 'display_data';\n",
              "          await google.colab.output.renderOutput(dataTable, element);\n",
              "          const docLink = document.createElement('div');\n",
              "          docLink.innerHTML = docLinkHtml;\n",
              "          element.appendChild(docLink);\n",
              "        }\n",
              "      </script>\n",
              "    </div>\n",
              "  </div>\n",
              "  "
            ]
          },
          "metadata": {},
          "execution_count": 58
        }
      ]
    },
    {
      "cell_type": "code",
      "source": [
        "plain_char_list"
      ],
      "metadata": {
        "colab": {
          "base_uri": "https://localhost:8080/"
        },
        "id": "Qzw_iBNW9wt_",
        "outputId": "f446ec8f-1945-4c76-a832-76b7d3cd0171"
      },
      "execution_count": 59,
      "outputs": [
        {
          "output_type": "execute_result",
          "data": {
            "text/plain": [
              "['odysseus',\n",
              " 'telemachus',\n",
              " 'penelope',\n",
              " 'athena',\n",
              " 'calypso',\n",
              " 'circe',\n",
              " 'polyphemus',\n",
              " 'scylla',\n",
              " 'antinous',\n",
              " 'eumaeus',\n",
              " 'euryclea',\n",
              " 'zeus',\n",
              " 'poseidon']"
            ]
          },
          "metadata": {},
          "execution_count": 59
        }
      ]
    },
    {
      "cell_type": "code",
      "source": [
        "# create df with gender, economic info, and creature type info for each character\n",
        "# initialize data of lists.\n",
        "data = {'Character': plain_char_list,\n",
        "        'Gender': [\"m\", \"m\", \"f\", \"f\", \"f\", \"f\", \"m\", \"f\", \"m\", \"m\", \"f\", \"m\", \"f\"],\n",
        "        'Economic_Status': [3, 3, 3, 4, 4, 4, 1, np.NaN, 2, 0, 0, 4, 4],\n",
        "        'Creature_Type': [\"human\", \"human\", \"human\", \"god\", \"god\", \"god\", \"monster\", \"monster\", \"human\", \"human\", \"human\", \"god\", \"god\"]}\n",
        "  \n",
        "# Create DataFrame\n",
        "character_info = pd.DataFrame(data)"
      ],
      "metadata": {
        "id": "BuK7-6Q08-2S"
      },
      "execution_count": 60,
      "outputs": []
    },
    {
      "cell_type": "code",
      "source": [
        "character_info"
      ],
      "metadata": {
        "colab": {
          "base_uri": "https://localhost:8080/",
          "height": 457
        },
        "id": "ucdhczLZ_lsd",
        "outputId": "823cb167-c3ae-4ec7-b0e4-904a1a2d5278"
      },
      "execution_count": 61,
      "outputs": [
        {
          "output_type": "execute_result",
          "data": {
            "text/plain": [
              "     Character Gender  Economic_Status Creature_Type\n",
              "0     odysseus      m              3.0         human\n",
              "1   telemachus      m              3.0         human\n",
              "2     penelope      f              3.0         human\n",
              "3       athena      f              4.0           god\n",
              "4      calypso      f              4.0           god\n",
              "5        circe      f              4.0           god\n",
              "6   polyphemus      m              1.0       monster\n",
              "7       scylla      f              NaN       monster\n",
              "8     antinous      m              2.0         human\n",
              "9      eumaeus      m              0.0         human\n",
              "10    euryclea      f              0.0         human\n",
              "11        zeus      m              4.0           god\n",
              "12    poseidon      f              4.0           god"
            ],
            "text/html": [
              "\n",
              "  <div id=\"df-88bead72-fc9d-4a09-b773-c254737dcf28\">\n",
              "    <div class=\"colab-df-container\">\n",
              "      <div>\n",
              "<style scoped>\n",
              "    .dataframe tbody tr th:only-of-type {\n",
              "        vertical-align: middle;\n",
              "    }\n",
              "\n",
              "    .dataframe tbody tr th {\n",
              "        vertical-align: top;\n",
              "    }\n",
              "\n",
              "    .dataframe thead th {\n",
              "        text-align: right;\n",
              "    }\n",
              "</style>\n",
              "<table border=\"1\" class=\"dataframe\">\n",
              "  <thead>\n",
              "    <tr style=\"text-align: right;\">\n",
              "      <th></th>\n",
              "      <th>Character</th>\n",
              "      <th>Gender</th>\n",
              "      <th>Economic_Status</th>\n",
              "      <th>Creature_Type</th>\n",
              "    </tr>\n",
              "  </thead>\n",
              "  <tbody>\n",
              "    <tr>\n",
              "      <th>0</th>\n",
              "      <td>odysseus</td>\n",
              "      <td>m</td>\n",
              "      <td>3.0</td>\n",
              "      <td>human</td>\n",
              "    </tr>\n",
              "    <tr>\n",
              "      <th>1</th>\n",
              "      <td>telemachus</td>\n",
              "      <td>m</td>\n",
              "      <td>3.0</td>\n",
              "      <td>human</td>\n",
              "    </tr>\n",
              "    <tr>\n",
              "      <th>2</th>\n",
              "      <td>penelope</td>\n",
              "      <td>f</td>\n",
              "      <td>3.0</td>\n",
              "      <td>human</td>\n",
              "    </tr>\n",
              "    <tr>\n",
              "      <th>3</th>\n",
              "      <td>athena</td>\n",
              "      <td>f</td>\n",
              "      <td>4.0</td>\n",
              "      <td>god</td>\n",
              "    </tr>\n",
              "    <tr>\n",
              "      <th>4</th>\n",
              "      <td>calypso</td>\n",
              "      <td>f</td>\n",
              "      <td>4.0</td>\n",
              "      <td>god</td>\n",
              "    </tr>\n",
              "    <tr>\n",
              "      <th>5</th>\n",
              "      <td>circe</td>\n",
              "      <td>f</td>\n",
              "      <td>4.0</td>\n",
              "      <td>god</td>\n",
              "    </tr>\n",
              "    <tr>\n",
              "      <th>6</th>\n",
              "      <td>polyphemus</td>\n",
              "      <td>m</td>\n",
              "      <td>1.0</td>\n",
              "      <td>monster</td>\n",
              "    </tr>\n",
              "    <tr>\n",
              "      <th>7</th>\n",
              "      <td>scylla</td>\n",
              "      <td>f</td>\n",
              "      <td>NaN</td>\n",
              "      <td>monster</td>\n",
              "    </tr>\n",
              "    <tr>\n",
              "      <th>8</th>\n",
              "      <td>antinous</td>\n",
              "      <td>m</td>\n",
              "      <td>2.0</td>\n",
              "      <td>human</td>\n",
              "    </tr>\n",
              "    <tr>\n",
              "      <th>9</th>\n",
              "      <td>eumaeus</td>\n",
              "      <td>m</td>\n",
              "      <td>0.0</td>\n",
              "      <td>human</td>\n",
              "    </tr>\n",
              "    <tr>\n",
              "      <th>10</th>\n",
              "      <td>euryclea</td>\n",
              "      <td>f</td>\n",
              "      <td>0.0</td>\n",
              "      <td>human</td>\n",
              "    </tr>\n",
              "    <tr>\n",
              "      <th>11</th>\n",
              "      <td>zeus</td>\n",
              "      <td>m</td>\n",
              "      <td>4.0</td>\n",
              "      <td>god</td>\n",
              "    </tr>\n",
              "    <tr>\n",
              "      <th>12</th>\n",
              "      <td>poseidon</td>\n",
              "      <td>f</td>\n",
              "      <td>4.0</td>\n",
              "      <td>god</td>\n",
              "    </tr>\n",
              "  </tbody>\n",
              "</table>\n",
              "</div>\n",
              "      <button class=\"colab-df-convert\" onclick=\"convertToInteractive('df-88bead72-fc9d-4a09-b773-c254737dcf28')\"\n",
              "              title=\"Convert this dataframe to an interactive table.\"\n",
              "              style=\"display:none;\">\n",
              "        \n",
              "  <svg xmlns=\"http://www.w3.org/2000/svg\" height=\"24px\"viewBox=\"0 0 24 24\"\n",
              "       width=\"24px\">\n",
              "    <path d=\"M0 0h24v24H0V0z\" fill=\"none\"/>\n",
              "    <path d=\"M18.56 5.44l.94 2.06.94-2.06 2.06-.94-2.06-.94-.94-2.06-.94 2.06-2.06.94zm-11 1L8.5 8.5l.94-2.06 2.06-.94-2.06-.94L8.5 2.5l-.94 2.06-2.06.94zm10 10l.94 2.06.94-2.06 2.06-.94-2.06-.94-.94-2.06-.94 2.06-2.06.94z\"/><path d=\"M17.41 7.96l-1.37-1.37c-.4-.4-.92-.59-1.43-.59-.52 0-1.04.2-1.43.59L10.3 9.45l-7.72 7.72c-.78.78-.78 2.05 0 2.83L4 21.41c.39.39.9.59 1.41.59.51 0 1.02-.2 1.41-.59l7.78-7.78 2.81-2.81c.8-.78.8-2.07 0-2.86zM5.41 20L4 18.59l7.72-7.72 1.47 1.35L5.41 20z\"/>\n",
              "  </svg>\n",
              "      </button>\n",
              "      \n",
              "  <style>\n",
              "    .colab-df-container {\n",
              "      display:flex;\n",
              "      flex-wrap:wrap;\n",
              "      gap: 12px;\n",
              "    }\n",
              "\n",
              "    .colab-df-convert {\n",
              "      background-color: #E8F0FE;\n",
              "      border: none;\n",
              "      border-radius: 50%;\n",
              "      cursor: pointer;\n",
              "      display: none;\n",
              "      fill: #1967D2;\n",
              "      height: 32px;\n",
              "      padding: 0 0 0 0;\n",
              "      width: 32px;\n",
              "    }\n",
              "\n",
              "    .colab-df-convert:hover {\n",
              "      background-color: #E2EBFA;\n",
              "      box-shadow: 0px 1px 2px rgba(60, 64, 67, 0.3), 0px 1px 3px 1px rgba(60, 64, 67, 0.15);\n",
              "      fill: #174EA6;\n",
              "    }\n",
              "\n",
              "    [theme=dark] .colab-df-convert {\n",
              "      background-color: #3B4455;\n",
              "      fill: #D2E3FC;\n",
              "    }\n",
              "\n",
              "    [theme=dark] .colab-df-convert:hover {\n",
              "      background-color: #434B5C;\n",
              "      box-shadow: 0px 1px 3px 1px rgba(0, 0, 0, 0.15);\n",
              "      filter: drop-shadow(0px 1px 2px rgba(0, 0, 0, 0.3));\n",
              "      fill: #FFFFFF;\n",
              "    }\n",
              "  </style>\n",
              "\n",
              "      <script>\n",
              "        const buttonEl =\n",
              "          document.querySelector('#df-88bead72-fc9d-4a09-b773-c254737dcf28 button.colab-df-convert');\n",
              "        buttonEl.style.display =\n",
              "          google.colab.kernel.accessAllowed ? 'block' : 'none';\n",
              "\n",
              "        async function convertToInteractive(key) {\n",
              "          const element = document.querySelector('#df-88bead72-fc9d-4a09-b773-c254737dcf28');\n",
              "          const dataTable =\n",
              "            await google.colab.kernel.invokeFunction('convertToInteractive',\n",
              "                                                     [key], {});\n",
              "          if (!dataTable) return;\n",
              "\n",
              "          const docLinkHtml = 'Like what you see? Visit the ' +\n",
              "            '<a target=\"_blank\" href=https://colab.research.google.com/notebooks/data_table.ipynb>data table notebook</a>'\n",
              "            + ' to learn more about interactive tables.';\n",
              "          element.innerHTML = '';\n",
              "          dataTable['output_type'] = 'display_data';\n",
              "          await google.colab.output.renderOutput(dataTable, element);\n",
              "          const docLink = document.createElement('div');\n",
              "          docLink.innerHTML = docLinkHtml;\n",
              "          element.appendChild(docLink);\n",
              "        }\n",
              "      </script>\n",
              "    </div>\n",
              "  </div>\n",
              "  "
            ]
          },
          "metadata": {},
          "execution_count": 61
        }
      ]
    },
    {
      "cell_type": "code",
      "source": [
        "# add ^ to the larger dataframe\n",
        "characters_complete_df = characters_df.join(character_info.set_index('Character'), on='word')"
      ],
      "metadata": {
        "id": "OiG3gp0JAto6"
      },
      "execution_count": 62,
      "outputs": []
    },
    {
      "cell_type": "code",
      "source": [
        "# output df so that Visual Analysis can be done in R\n",
        "characters_complete_df.to_csv(\"characters_df.csv\")"
      ],
      "metadata": {
        "id": "HZ8B9SbdkoRS"
      },
      "execution_count": 63,
      "outputs": []
    },
    {
      "cell_type": "markdown",
      "source": [
        "# Visual Analysis"
      ],
      "metadata": {
        "id": "bbfnUyyZ_lGt"
      }
    },
    {
      "cell_type": "code",
      "source": [
        "def graph_results(sent_df, plain_word_list):\n",
        "  results = get_results(sent_df, plain_word_list)\n",
        "  results = results.sort_values(by=['word'])\n",
        "  results.plot(x=\"word\", y=[\"mean_polarity\", \"mean_subjectivity\"], kind=\"bar\", figsize=(15, 10))"
      ],
      "metadata": {
        "id": "0e_EZCuqC___"
      },
      "execution_count": 68,
      "outputs": []
    },
    {
      "cell_type": "code",
      "source": [
        "butl_res = get_results(butl_sent_df, plain_char_list)"
      ],
      "metadata": {
        "id": "UO9bE2C5_pFZ"
      },
      "execution_count": 69,
      "outputs": []
    },
    {
      "cell_type": "code",
      "source": [
        "butl_res = butl_res.sort_values(by=['word'])"
      ],
      "metadata": {
        "id": "RuJFwn2__tOy"
      },
      "execution_count": 70,
      "outputs": []
    },
    {
      "cell_type": "code",
      "source": [
        "# for metric in metrics:\n",
        "butl_res.plot(x=\"word\", y=[\"mean_polarity\", \"mean_subjectivity\"], kind=\"bar\", figsize=(15, 10))"
      ],
      "metadata": {
        "colab": {
          "base_uri": "https://localhost:8080/",
          "height": 675
        },
        "id": "wOT3uMaHAN0K",
        "outputId": "6905ca68-340d-4f20-d589-5465a9161d7f"
      },
      "execution_count": 72,
      "outputs": [
        {
          "output_type": "execute_result",
          "data": {
            "text/plain": [
              "<matplotlib.axes._subplots.AxesSubplot at 0x7f32f0ac6dc0>"
            ]
          },
          "metadata": {},
          "execution_count": 72
        },
        {
          "output_type": "display_data",
          "data": {
            "text/plain": [
              "<Figure size 1080x720 with 1 Axes>"
            ],
            "image/png": "[encoded data removed]"
          },
          "metadata": {
            "needs_background": "light"
          }
        }
      ]
    },
    {
      "cell_type": "code",
      "source": [
        "butch_res = get_results(butch_sent_df, plain_char_list).sort_values(by=['word'])\n",
        "butch_res.plot(x=\"word\", y=[\"mean_polarity\", \"mean_subjectivity\"], kind=\"bar\", figsize=(15, 10))"
      ],
      "metadata": {
        "colab": {
          "base_uri": "https://localhost:8080/",
          "height": 675
        },
        "id": "4kFE0xdiB19e",
        "outputId": "4b8bc645-97c4-47ff-862b-a4ae7d931d3f"
      },
      "execution_count": 75,
      "outputs": [
        {
          "output_type": "execute_result",
          "data": {
            "text/plain": [
              "<matplotlib.axes._subplots.AxesSubplot at 0x7f32f050f3a0>"
            ]
          },
          "metadata": {},
          "execution_count": 75
        },
        {
          "output_type": "display_data",
          "data": {
            "text/plain": [
              "<Figure size 1080x720 with 1 Axes>"
            ],
            "image/png": "[encoded data removed]"
          },
          "metadata": {
            "needs_background": "light"
          }
        }
      ]
    },
    {
      "cell_type": "code",
      "source": [
        "graph_results(pope_sent_df, plain_char_list)"
      ],
      "metadata": {
        "colab": {
          "base_uri": "https://localhost:8080/",
          "height": 657
        },
        "id": "I1IPCIh5DVC1",
        "outputId": "6e2e6861-acdd-47c5-ec2e-66b628000bad"
      },
      "execution_count": 76,
      "outputs": [
        {
          "output_type": "display_data",
          "data": {
            "text/plain": [
              "<Figure size 1080x720 with 1 Axes>"
            ],
            "image/png": "[encoded data removed]"
          },
          "metadata": {
            "needs_background": "light"
          }
        }
      ]
    },
    {
      "cell_type": "code",
      "source": [
        "graph_results(cowp_sent_df, plain_char_list)"
      ],
      "metadata": {
        "colab": {
          "base_uri": "https://localhost:8080/",
          "height": 657
        },
        "id": "Qmmb0Ug0EYRm",
        "outputId": "94c93b7d-a870-45bf-de0e-83e06da52825"
      },
      "execution_count": 77,
      "outputs": [
        {
          "output_type": "display_data",
          "data": {
            "text/plain": [
              "<Figure size 1080x720 with 1 Axes>"
            ],
            "image/png": "[encoded data removed]"
          },
          "metadata": {
            "needs_background": "light"
          }
        }
      ]
    }
  ]
}